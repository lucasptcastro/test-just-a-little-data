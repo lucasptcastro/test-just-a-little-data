{
 "cells": [
  {
   "cell_type": "code",
   "execution_count": 2,
   "metadata": {},
   "outputs": [],
   "source": [
    "import pandas as pd\n",
    "import seaborn as sns\n",
    "\n",
    "df = pd.read_csv('./Dataset_teste_Just_BI.csv', sep=\";\")"
   ]
  },
  {
   "cell_type": "markdown",
   "metadata": {},
   "source": [
    "**Aponte resultados de vendas por ano: Gross Revenue, Net Revenue, Boxes (em Gráfico e\n",
    "Tabela)**"
   ]
  },
  {
   "cell_type": "code",
   "execution_count": 3,
   "metadata": {},
   "outputs": [
    {
     "data": {
      "text/html": [
       "<div>\n",
       "<style scoped>\n",
       "    .dataframe tbody tr th:only-of-type {\n",
       "        vertical-align: middle;\n",
       "    }\n",
       "\n",
       "    .dataframe tbody tr th {\n",
       "        vertical-align: top;\n",
       "    }\n",
       "\n",
       "    .dataframe thead th {\n",
       "        text-align: right;\n",
       "    }\n",
       "</style>\n",
       "<table border=\"1\" class=\"dataframe\">\n",
       "  <thead>\n",
       "    <tr style=\"text-align: right;\">\n",
       "      <th></th>\n",
       "      <th>years</th>\n",
       "      <th>revenues</th>\n",
       "      <th>values</th>\n",
       "    </tr>\n",
       "  </thead>\n",
       "  <tbody>\n",
       "    <tr>\n",
       "      <th>0</th>\n",
       "      <td>2013</td>\n",
       "      <td>net_revenue</td>\n",
       "      <td>5295828</td>\n",
       "    </tr>\n",
       "    <tr>\n",
       "      <th>1</th>\n",
       "      <td>2014</td>\n",
       "      <td>net_revenue</td>\n",
       "      <td>10161460</td>\n",
       "    </tr>\n",
       "    <tr>\n",
       "      <th>2</th>\n",
       "      <td>2015</td>\n",
       "      <td>net_revenue</td>\n",
       "      <td>10611613</td>\n",
       "    </tr>\n",
       "    <tr>\n",
       "      <th>3</th>\n",
       "      <td>2013</td>\n",
       "      <td>gross_revenue</td>\n",
       "      <td>6134328</td>\n",
       "    </tr>\n",
       "    <tr>\n",
       "      <th>4</th>\n",
       "      <td>2014</td>\n",
       "      <td>gross_revenue</td>\n",
       "      <td>11505225</td>\n",
       "    </tr>\n",
       "    <tr>\n",
       "      <th>5</th>\n",
       "      <td>2015</td>\n",
       "      <td>gross_revenue</td>\n",
       "      <td>12019567</td>\n",
       "    </tr>\n",
       "    <tr>\n",
       "      <th>6</th>\n",
       "      <td>2013</td>\n",
       "      <td>boxes</td>\n",
       "      <td>156289</td>\n",
       "    </tr>\n",
       "    <tr>\n",
       "      <th>7</th>\n",
       "      <td>2014</td>\n",
       "      <td>boxes</td>\n",
       "      <td>291647</td>\n",
       "    </tr>\n",
       "    <tr>\n",
       "      <th>8</th>\n",
       "      <td>2015</td>\n",
       "      <td>boxes</td>\n",
       "      <td>292778</td>\n",
       "    </tr>\n",
       "  </tbody>\n",
       "</table>\n",
       "</div>"
      ],
      "text/plain": [
       "  years       revenues    values\n",
       "0  2013    net_revenue   5295828\n",
       "1  2014    net_revenue  10161460\n",
       "2  2015    net_revenue  10611613\n",
       "3  2013  gross_revenue   6134328\n",
       "4  2014  gross_revenue  11505225\n",
       "5  2015  gross_revenue  12019567\n",
       "6  2013          boxes    156289\n",
       "7  2014          boxes    291647\n",
       "8  2015          boxes    292778"
      ]
     },
     "metadata": {},
     "output_type": "display_data"
    },
    {
     "data": {
      "text/plain": [
       "<Axes: xlabel='years', ylabel='values'>"
      ]
     },
     "execution_count": 3,
     "metadata": {},
     "output_type": "execute_result"
    },
    {
     "data": {
      "image/png": "[encoded data removed]",
      "text/plain": [
       "<Figure size 640x480 with 1 Axes>"
      ]
     },
     "metadata": {},
     "output_type": "display_data"
    }
   ],
   "source": [
    "df_results_per_year = df.filter(items=['year', 'net_revenue', 'gross_revenue', 'boxes']).groupby('year').sum()\n",
    "\n",
    "years_list = ['2013', '2014', '2015']\n",
    "df_results_per_year['years'] = years_list\n",
    "\n",
    "df_results_per_year = df_results_per_year[['net_revenue', 'gross_revenue', 'boxes', 'years']]\n",
    "df_results_per_year = df_results_per_year.melt('years', var_name='revenues', value_name='values')\n",
    "\n",
    "\n",
    "# Table\n",
    "display(df_results_per_year)\n",
    "\n",
    "# Plot\n",
    "sns.barplot(df_results_per_year, x='years', y='values', hue='revenues')"
   ]
  },
  {
   "attachments": {},
   "cell_type": "markdown",
   "metadata": {},
   "source": [
    "**Qual customer_acquision_channel teve maior Ticket Médio em 2013 e em 2015?**"
   ]
  },
  {
   "cell_type": "code",
   "execution_count": 4,
   "metadata": {},
   "outputs": [
    {
     "data": {
      "text/plain": [
       "year  customer_acquisition_channel\n",
       "2013  Paid Marketing                  121299\n",
       "      Referral                         25878\n",
       "2014  Paid Marketing                  227005\n",
       "      Referral                         53489\n",
       "2015  Paid Marketing                  214637\n",
       "      Referral                         73567\n",
       "Name: count, dtype: int64"
      ]
     },
     "execution_count": 4,
     "metadata": {},
     "output_type": "execute_result"
    }
   ],
   "source": [
    "highest_average_ticket_customer_acquision_channel = df.filter(items=['year', 'customer_acquisition_channel']).groupby('year').value_counts()\n",
    "\n",
    "# Result\n",
    "highest_average_ticket_customer_acquision_channel"
   ]
  },
  {
   "cell_type": "code",
   "execution_count": 5,
   "metadata": {},
   "outputs": [
    {
     "data": {
      "text/html": [
       "<div>\n",
       "<style scoped>\n",
       "    .dataframe tbody tr th:only-of-type {\n",
       "        vertical-align: middle;\n",
       "    }\n",
       "\n",
       "    .dataframe tbody tr th {\n",
       "        vertical-align: top;\n",
       "    }\n",
       "\n",
       "    .dataframe thead th {\n",
       "        text-align: right;\n",
       "    }\n",
       "</style>\n",
       "<table border=\"1\" class=\"dataframe\">\n",
       "  <thead>\n",
       "    <tr style=\"text-align: right;\">\n",
       "      <th></th>\n",
       "      <th>years</th>\n",
       "      <th>variable</th>\n",
       "      <th>values</th>\n",
       "    </tr>\n",
       "  </thead>\n",
       "  <tbody>\n",
       "    <tr>\n",
       "      <th>0</th>\n",
       "      <td>2013</td>\n",
       "      <td>customer_id</td>\n",
       "      <td>35851</td>\n",
       "    </tr>\n",
       "    <tr>\n",
       "      <th>1</th>\n",
       "      <td>2015</td>\n",
       "      <td>customer_id</td>\n",
       "      <td>51643</td>\n",
       "    </tr>\n",
       "  </tbody>\n",
       "</table>\n",
       "</div>"
      ],
      "text/plain": [
       "  years     variable  values\n",
       "0  2013  customer_id   35851\n",
       "1  2015  customer_id   51643"
      ]
     },
     "metadata": {},
     "output_type": "display_data"
    },
    {
     "data": {
      "text/plain": [
       "<Axes: xlabel='years', ylabel='values'>"
      ]
     },
     "execution_count": 5,
     "metadata": {},
     "output_type": "execute_result"
    },
    {
     "data": {
      "image/png": "[encoded data removed]",
      "text/plain": [
       "<Figure size 640x480 with 1 Axes>"
      ]
     },
     "metadata": {},
     "output_type": "display_data"
    }
   ],
   "source": [
    "unique_customers = df.filter(items=['year', 'customer_id']).groupby('year').nunique().drop(2014)\n",
    "\n",
    "years_list = ['2013', '2015']\n",
    "unique_customers['years'] = years_list\n",
    "\n",
    "unique_customers = unique_customers[['customer_id', 'years']]\n",
    "unique_customers = unique_customers.melt('years', value_name='values')\n",
    "\n",
    "# Table\n",
    "display(unique_customers)\n",
    "\n",
    "# Plot\n",
    "sns.barplot(unique_customers, x='years', y='values', hue='variable')"
   ]
  },
  {
   "attachments": {},
   "cell_type": "markdown",
   "metadata": {},
   "source": [
    "**Quais dados complementares você julga que seriam importantes para incrementar suas análises em relação a resultados de vendas e análises sobre os clientes?**"
   ]
  },
  {
   "attachments": {},
   "cell_type": "markdown",
   "metadata": {},
   "source": [
    "Visando descobrir em qual nicho os clientes se encaixam, para que se possa elencar estratégias de vendas em cima destas categorias, acredito que estes dados seriam relevantes:\n",
    "\n",
    "- Faixa etária\n",
    "- Sexo\n",
    "- Estado\n",
    "- Quantidade de produtos em uma só compra\n",
    "- Escolaridade (talvez)\n",
    "\n",
    "*obs:* baseado no sistema de tráfego pago do Facebook Business"
   ]
  }
 ],
 "metadata": {
  "kernelspec": {
   "display_name": ".venv",
   "language": "python",
   "name": "python3"
  },
  "language_info": {
   "codemirror_mode": {
    "name": "ipython",
    "version": 3
   },
   "file_extension": ".py",
   "mimetype": "text/x-python",
   "name": "python",
   "nbconvert_exporter": "python",
   "pygments_lexer": "ipython3",
   "version": "3.11.3"
  },
  "orig_nbformat": 4
 },
 "nbformat": 4,
 "nbformat_minor": 2
}
